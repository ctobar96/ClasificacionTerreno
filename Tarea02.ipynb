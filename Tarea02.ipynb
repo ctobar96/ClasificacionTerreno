{
 "cells": [
  {
   "cell_type": "markdown",
   "id": "25295388",
   "metadata": {},
   "source": [
    "<div>\n",
    "<img src=\"https://i.ibb.co/v3CvVz9/udd-short.png\" width=\"150\"/>\n",
    "    <br>\n",
    "    <strong>Universidad del Desarrollo</strong><br>\n",
    "    <em>Magíster en Data Science</em><br>\n",
    "    <em>Profesor: Takeshi Asahi Kodama</em><br>\n",
    "\n",
    "</div>\n",
    "\n",
    "# **<center>Tarea 2: Introducción a la Visión Computacional</center>**\n",
    "*08 de mayo de 2025*\n",
    "\n",
    "**Nombre Estudiante**: Cristian Tobar Morales  \n",
    "**Asignatura**: Visión Computacional "
   ]
  }
 ],
 "metadata": {
  "language_info": {
   "name": "python"
  }
 },
 "nbformat": 4,
 "nbformat_minor": 5
}
